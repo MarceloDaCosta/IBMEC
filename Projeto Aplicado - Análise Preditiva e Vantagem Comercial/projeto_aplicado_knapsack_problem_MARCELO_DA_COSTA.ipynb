{
  "nbformat": 4,
  "nbformat_minor": 0,
  "metadata": {
    "colab": {
      "provenance": [],
      "collapsed_sections": [
        "Akl92Uwavh1O"
      ]
    },
    "kernelspec": {
      "name": "python3",
      "display_name": "Python 3"
    },
    "language_info": {
      "name": "python"
    }
  },
  "cells": [
    {
      "cell_type": "markdown",
      "source": [
        "# **Introducao a Analise Preditiva**\n",
        "\n",
        "**prof: Sergio Assuncao Monteiro, DSc**\n",
        "\n",
        "linkedin: https://www.linkedin.com/in/sergio-assun%C3%A7%C3%A3o-monteiro-b781897b/\n",
        "\n",
        "lattes: http://lattes.cnpq.br/9489191035734025\n"
      ],
      "metadata": {
        "id": "iZi-ryS8pMxp"
      }
    },
    {
      "cell_type": "markdown",
      "source": [
        "# **Instalação do pacote mip**"
      ],
      "metadata": {
        "id": "FMBJRGWcvNWr"
      }
    },
    {
      "cell_type": "markdown",
      "source": [
        "documentação do pacote MIP: https://python-mip.readthedocs.io/en/latest/classes.html"
      ],
      "metadata": {
        "id": "WabqlrS-URJx"
      }
    },
    {
      "cell_type": "code",
      "execution_count": null,
      "metadata": {
        "colab": {
          "base_uri": "https://localhost:8080/"
        },
        "id": "1J5QWhp-pHcP",
        "outputId": "858a68e2-936c-487d-ca39-50860b9b2808"
      },
      "outputs": [
        {
          "output_type": "stream",
          "name": "stdout",
          "text": [
            "Looking in indexes: https://pypi.org/simple, https://us-python.pkg.dev/colab-wheels/public/simple/\n",
            "Requirement already satisfied: mip in /usr/local/lib/python3.8/dist-packages (1.15.0)\n",
            "Requirement already satisfied: cffi==1.15.* in /usr/local/lib/python3.8/dist-packages (from mip) (1.15.1)\n",
            "Requirement already satisfied: pycparser in /usr/local/lib/python3.8/dist-packages (from cffi==1.15.*->mip) (2.21)\n"
          ]
        }
      ],
      "source": [
        "!pip install mip"
      ]
    },
    {
      "cell_type": "markdown",
      "source": [
        "**Problema da Mochila**"
      ],
      "metadata": {
        "id": "SOeeFXxEvSS5"
      }
    },
    {
      "cell_type": "markdown",
      "source": [
        "Formulação do Modelo do problema da mochila (knapsack problem)\n",
        "\n",
        "\\begin{eqnarray}\n",
        "\\max              & \\ 4\\ x_{1} + 6\\ x_{2} + 5\\ x_{3} + 3\\ x_{4} + 1\\ x_{5} \\\\\n",
        "\\mbox{sujeito a:} & \\ \\ \\ \\ 5\\ x_{1} + 4\\ x_{2} + 3\\ x_{3} + 2\\ x_{4} + 1\\ x_{5} \\leq 10\n",
        "\\end{eqnarray}\n",
        "\n",
        "Além disso $x$ é um vetor inteiro com valores não-negativos."
      ],
      "metadata": {
        "id": "6Up7Tag4vWkn"
      }
    },
    {
      "cell_type": "code",
      "source": [
        "from mip import Model, maximize, CBC, INTEGER, OptimizationStatus, BINARY, xsum"
      ],
      "metadata": {
        "id": "DWAwA6djvVhU"
      },
      "execution_count": null,
      "outputs": []
    },
    {
      "cell_type": "code",
      "source": [
        "coef_funcao_objetivo = [4, 6, 5, 3, 1]\n",
        "coef_restr = [5, 4, 3, 2, 1]\n",
        "termo_independente = 10"
      ],
      "metadata": {
        "id": "BVVV1-HjSPCj"
      },
      "execution_count": null,
      "outputs": []
    },
    {
      "cell_type": "code",
      "source": [
        "I = range(len(coef_funcao_objetivo))\n",
        "m = Model(\"knapsack\")"
      ],
      "metadata": {
        "id": "qG0ZLXNTRt9d"
      },
      "execution_count": null,
      "outputs": []
    },
    {
      "cell_type": "code",
      "source": [
        "x = [m.add_var(var_type=BINARY) for i in I]"
      ],
      "metadata": {
        "id": "sBmvnRW2Qsdq"
      },
      "execution_count": null,
      "outputs": []
    },
    {
      "cell_type": "code",
      "source": [
        "m.objective = maximize(xsum(coef_funcao_objetivo[i] * x[i] for i in I))"
      ],
      "metadata": {
        "id": "fFI_gu3i_q_m"
      },
      "execution_count": null,
      "outputs": []
    },
    {
      "cell_type": "code",
      "source": [
        "m += xsum(coef_restr[i] * x[i] for i in I) <= termo_independente\n",
        "print(f'O modelo tem {m.num_cols} variável(eis), {m.num_rows} restrição(ões) e {m.num_nz} zero(s)')"
      ],
      "metadata": {
        "colab": {
          "base_uri": "https://localhost:8080/"
        },
        "id": "M5MieaPqR3zs",
        "outputId": "6d673d5b-d1f9-4fe8-cb1f-e40970dce630"
      },
      "execution_count": null,
      "outputs": [
        {
          "output_type": "stream",
          "name": "stdout",
          "text": [
            "O modelo tem 5 variável(eis), 1 restrição(ões) e 5 zero(s)\n"
          ]
        }
      ]
    },
    {
      "cell_type": "code",
      "source": [
        "status = m.optimize(max_seconds=2)"
      ],
      "metadata": {
        "id": "KZWsiOPVQsGb"
      },
      "execution_count": null,
      "outputs": []
    },
    {
      "cell_type": "code",
      "source": [
        "status == OptimizationStatus.OPTIMAL"
      ],
      "metadata": {
        "colab": {
          "base_uri": "https://localhost:8080/"
        },
        "id": "3UD0BjDnT2o7",
        "outputId": "9b4e6e82-2af5-4d9e-b949-7c7b7881cab9"
      },
      "execution_count": null,
      "outputs": [
        {
          "output_type": "execute_result",
          "data": {
            "text/plain": [
              "True"
            ]
          },
          "metadata": {},
          "execution_count": 217
        }
      ]
    },
    {
      "cell_type": "code",
      "source": [
        "itens_selecionados = [\"x\"+str(i+1) for i in I if x[i].x >= 0.99]\n",
        "print(\"Itens selecionados: {}\".format(itens_selecionados))"
      ],
      "metadata": {
        "colab": {
          "base_uri": "https://localhost:8080/"
        },
        "id": "07mA9CGeQ2_d",
        "outputId": "96d04669-f0b2-47dd-d307-f34e4e1fa9ab"
      },
      "execution_count": null,
      "outputs": [
        {
          "output_type": "stream",
          "name": "stdout",
          "text": [
            "Itens selecionados: ['x2', 'x3', 'x4', 'x5']\n"
          ]
        }
      ]
    },
    {
      "cell_type": "markdown",
      "source": [
        "# **Instalação do pacote ortools**"
      ],
      "metadata": {
        "id": "Akl92Uwavh1O"
      }
    },
    {
      "cell_type": "code",
      "source": [
        "!pip install ortools"
      ],
      "metadata": {
        "colab": {
          "base_uri": "https://localhost:8080/"
        },
        "id": "FIK7HJdAvkHe",
        "outputId": "aebb6665-7274-4c3b-c1f5-e25716829402"
      },
      "execution_count": null,
      "outputs": [
        {
          "output_type": "stream",
          "name": "stdout",
          "text": [
            "Looking in indexes: https://pypi.org/simple, https://us-python.pkg.dev/colab-wheels/public/simple/\n",
            "Requirement already satisfied: ortools in /usr/local/lib/python3.8/dist-packages (9.5.2237)\n",
            "Requirement already satisfied: protobuf>=4.21.5 in /usr/local/lib/python3.8/dist-packages (from ortools) (4.21.12)\n",
            "Requirement already satisfied: absl-py>=0.13 in /usr/local/lib/python3.8/dist-packages (from ortools) (1.4.0)\n",
            "Requirement already satisfied: numpy>=1.13.3 in /usr/local/lib/python3.8/dist-packages (from ortools) (1.21.6)\n"
          ]
        }
      ]
    },
    {
      "cell_type": "markdown",
      "source": [
        "**Exemplo de Programação Inteira**"
      ],
      "metadata": {
        "id": "g0EmBsmIvmh9"
      }
    },
    {
      "cell_type": "code",
      "source": [
        "from ortools.linear_solver import pywraplp"
      ],
      "metadata": {
        "id": "k3X57eNAvqc_"
      },
      "execution_count": null,
      "outputs": []
    },
    {
      "cell_type": "code",
      "source": [
        "solver = pywraplp.Solver.CreateSolver('SCIP')"
      ],
      "metadata": {
        "id": "9wGuK25kU1e5"
      },
      "execution_count": null,
      "outputs": []
    },
    {
      "cell_type": "code",
      "source": [
        "infinity = solver.infinity()\n",
        "# x e y são variáveis inteiras não-negativas.\n",
        "x = solver.IntVar(0.0, infinity, 'x')\n",
        "y = solver.IntVar(0.0, infinity, 'y')\n",
        "\n",
        "print('Número de variáveis =', solver.NumVariables())"
      ],
      "metadata": {
        "colab": {
          "base_uri": "https://localhost:8080/"
        },
        "id": "TwYvQLaoUmSp",
        "outputId": "7d05d8bd-710f-44f9-c0f7-b9d31b0dfed6"
      },
      "execution_count": null,
      "outputs": [
        {
          "output_type": "stream",
          "name": "stdout",
          "text": [
            "Número de variáveis = 2\n"
          ]
        }
      ]
    },
    {
      "cell_type": "code",
      "source": [
        "# x + 7 * y <= 17.5.\n",
        "solver.Add(x + 7 * y <= 17.5)\n",
        "\n",
        "# x <= 3.5.\n",
        "solver.Add(x <= 3.5)\n",
        "\n",
        "print('Número de restrições =', solver.NumConstraints())"
      ],
      "metadata": {
        "colab": {
          "base_uri": "https://localhost:8080/"
        },
        "id": "wFGgiZJSU-OY",
        "outputId": "68bbd6d2-c96f-4e69-f540-8abebe4c9a41"
      },
      "execution_count": null,
      "outputs": [
        {
          "output_type": "stream",
          "name": "stdout",
          "text": [
            "Número de restrições = 2\n"
          ]
        }
      ]
    },
    {
      "cell_type": "code",
      "source": [
        "# Maximize x + 10 * y.\n",
        "solver.Maximize(x + 10 * y)"
      ],
      "metadata": {
        "id": "4TUBdVz8VBBA"
      },
      "execution_count": null,
      "outputs": []
    },
    {
      "cell_type": "code",
      "source": [
        "status = solver.Solve()"
      ],
      "metadata": {
        "id": "ysL6LkMYVCj4"
      },
      "execution_count": null,
      "outputs": []
    },
    {
      "cell_type": "code",
      "source": [
        "if status == pywraplp.Solver.OPTIMAL:\n",
        "  print('Solução:')\n",
        "  print('Valor objetivo =', solver.Objective().Value())\n",
        "  print('x =', x.solution_value())\n",
        "  print('y =', y.solution_value())\n",
        "else:\n",
        "  print('O problema não tem solução ótima.')\n",
        "\n"
      ],
      "metadata": {
        "colab": {
          "base_uri": "https://localhost:8080/"
        },
        "id": "t2dp9nO2Upnq",
        "outputId": "33fc95ad-386d-4804-a7a5-9f17d4d85b38"
      },
      "execution_count": null,
      "outputs": [
        {
          "output_type": "stream",
          "name": "stdout",
          "text": [
            "Solução:\n",
            "Valor objetivo = 23.0\n",
            "x = 3.0\n",
            "y = 2.0\n"
          ]
        }
      ]
    },
    {
      "cell_type": "code",
      "source": [
        "print('\\nInformações sobre o processamento:')\n",
        "print(f'Tempo de processamento em milisegundos foi de {solver.wall_time()}')\n",
        "print(f'Quantidade de Iterações para resolver o problema foi de {solver.iterations()}')\n",
        "print(f'Quantidade nós de branch-and-bound para resolver o problema foi de {solver.nodes()}')"
      ],
      "metadata": {
        "colab": {
          "base_uri": "https://localhost:8080/"
        },
        "id": "GXgEX5liUsDx",
        "outputId": "5a5efc0c-6075-42e7-fd97-2117703ab49a"
      },
      "execution_count": null,
      "outputs": [
        {
          "output_type": "stream",
          "name": "stdout",
          "text": [
            "\n",
            "Informações sobre o processamento:\n",
            "Tempo de processamento em milisegundos foi de 96\n",
            "Quantidade de Iterações para resolver o problema foi de 0\n",
            "Quantidade nós de branch-and-bound para resolver o problema foi de 1\n"
          ]
        }
      ]
    }
  ]
}